{
 "cells": [
  {
   "cell_type": "markdown",
   "id": "01a2f1c7-f07b-465c-87e3-034307c00a55",
   "metadata": {},
   "source": [
    "- Ensure you have pandas, numpy, matplotlib installed\n",
    "- Perform a Did I Take My Meds database backup and make it accessible to this script\n",
    "- Update the path below\n",
    "- Run through all the code blocks"
   ]
  },
  {
   "cell_type": "code",
   "execution_count": 100,
   "id": "40f9313a-c09f-4d11-8669-a05038546919",
   "metadata": {},
   "outputs": [],
   "source": [
    "DB_PATH=\"/Users/mwheeler/Library/CloudStorage/Dropbox/medications/medications\""
   ]
  },
  {
   "cell_type": "code",
   "execution_count": 101,
   "id": "703b8b68-966e-47f2-8d59-18e6c6268cbd",
   "metadata": {},
   "outputs": [],
   "source": [
    "import sqlite3\n",
    "con = sqlite3.connect(DB_PATH)\n",
    "cur = con.cursor()\n",
    "res = cur.execute(\"select name,dose_record from medication\")\n",
    "data = res.fetchall()\n",
    "con.close()"
   ]
  },
  {
   "cell_type": "code",
   "execution_count": 102,
   "id": "c82b104f-79df-4fd2-8897-c019fb54cd6f",
   "metadata": {},
   "outputs": [],
   "source": [
    "import json\n",
    "drugs = {}\n",
    "for row in data:\n",
    "    drugs[row[0]] = json.loads(row[1])"
   ]
  },
  {
   "cell_type": "code",
   "execution_count": 103,
   "id": "4d2de418-b20d-4e39-ad9a-08fdcb5f7759",
   "metadata": {},
   "outputs": [],
   "source": [
    "import pandas as pd\n",
    "import numpy as np\n",
    "from datetime import datetime"
   ]
  },
  {
   "cell_type": "code",
   "execution_count": 104,
   "id": "9b9ca698-b982-4972-b901-ea666412bf0e",
   "metadata": {},
   "outputs": [],
   "source": [
    "data = []\n",
    "for drug in drugs:\n",
    "    for dose in drugs[drug]:\n",
    "        row = [datetime.fromtimestamp(dose['closestDose']/1000), (dose['doseTime'] - dose['closestDose'])/1000, drug]\n",
    "        data.append(row)"
   ]
  },
  {
   "cell_type": "code",
   "execution_count": 105,
   "id": "74143c4c-c6d3-4e5b-8ab1-60941b09c321",
   "metadata": {},
   "outputs": [],
   "source": [
    "df = pd.DataFrame(data, columns=[\"schedule\",\"diff_secs\",\"drug\"])"
   ]
  },
  {
   "cell_type": "code",
   "execution_count": 106,
   "id": "29aed067-51a6-48ad-8538-b8e9396aa561",
   "metadata": {},
   "outputs": [
    {
     "data": {
      "text/html": [
       "<div>\n",
       "<style scoped>\n",
       "    .dataframe tbody tr th:only-of-type {\n",
       "        vertical-align: middle;\n",
       "    }\n",
       "\n",
       "    .dataframe tbody tr th {\n",
       "        vertical-align: top;\n",
       "    }\n",
       "\n",
       "    .dataframe thead th {\n",
       "        text-align: right;\n",
       "    }\n",
       "</style>\n",
       "<table border=\"1\" class=\"dataframe\">\n",
       "  <thead>\n",
       "    <tr style=\"text-align: right;\">\n",
       "      <th></th>\n",
       "      <th>schedule</th>\n",
       "      <th>diff_secs</th>\n",
       "      <th>drug</th>\n",
       "    </tr>\n",
       "  </thead>\n",
       "  <tbody>\n",
       "    <tr>\n",
       "      <th>0</th>\n",
       "      <td>2023-10-09 08:00:00</td>\n",
       "      <td>-554.308</td>\n",
       "      <td>Cyproterone Acetate</td>\n",
       "    </tr>\n",
       "    <tr>\n",
       "      <th>1</th>\n",
       "      <td>2023-10-07 06:50:00</td>\n",
       "      <td>46.786</td>\n",
       "      <td>Cyproterone Acetate</td>\n",
       "    </tr>\n",
       "  </tbody>\n",
       "</table>\n",
       "</div>"
      ],
      "text/plain": [
       "             schedule  diff_secs                 drug\n",
       "0 2023-10-09 08:00:00   -554.308  Cyproterone Acetate\n",
       "1 2023-10-07 06:50:00     46.786  Cyproterone Acetate"
      ]
     },
     "execution_count": 106,
     "metadata": {},
     "output_type": "execute_result"
    }
   ],
   "source": [
    "df.head(2)"
   ]
  },
  {
   "cell_type": "code",
   "execution_count": 107,
   "id": "c51d07c9-eb8f-4366-b707-f87f1e5190bb",
   "metadata": {},
   "outputs": [
    {
     "data": {
      "text/plain": [
       "<matplotlib.legend.Legend at 0x17c09b410>"
      ]
     },
     "execution_count": 107,
     "metadata": {},
     "output_type": "execute_result"
    },
    {
     "data": {
      "image/png": "[encoded data removed]",
      "text/plain": [
       "<Figure size 800x400 with 1 Axes>"
      ]
     },
     "metadata": {},
     "output_type": "display_data"
    }
   ],
   "source": [
    "import matplotlib.pyplot as plt\n",
    "markers = [\n",
    "    {\"color\": \"red\",\"marker\":\"x\"},{\"color\":\"blue\",\"marker\":\"+\"},{\"color\":\"green\",\"marker\":\"o\"},{\"color\":\"orange\",\"marker\":\"^\"},{\"color\":\"purple\",\"marker\":\"v\"},{\"color\":\"pink\",\"marker\":\"*\"},\n",
    "]\n",
    "fig, ax = plt.subplots()\n",
    "for drug in drugs:\n",
    "    marker = markers[list(drugs.keys()).index(drug)]\n",
    "    plot_data = df[df['drug'] == drug]\n",
    "    plot_data.plot.scatter(\n",
    "        x=\"schedule\",\n",
    "        y=\"diff_secs\",\n",
    "        color=marker['color'],\n",
    "        marker=marker['marker'],\n",
    "        ax=ax,\n",
    "        figsize=[8,4]\n",
    "    )\n",
    "plt.legend(drugs.keys(), loc='upper center', bbox_to_anchor=(0.5, -0.20),\n",
    "          fancybox=True, shadow=True, ncol=5)"
   ]
  }
 ],
 "metadata": {
  "kernelspec": {
   "display_name": "Python 3 (ipykernel)",
   "language": "python",
   "name": "python3"
  },
  "language_info": {
   "codemirror_mode": {
    "name": "ipython",
    "version": 3
   },
   "file_extension": ".py",
   "mimetype": "text/x-python",
   "name": "python",
   "nbconvert_exporter": "python",
   "pygments_lexer": "ipython3",
   "version": "3.11.6"
  }
 },
 "nbformat": 4,
 "nbformat_minor": 5
}
